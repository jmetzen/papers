{
 "cells": [
  {
   "cell_type": "code",
   "execution_count": null,
   "metadata": {
    "collapsed": false
   },
   "outputs": [],
   "source": [
    "import sys\n",
    "sys.path = [\"/home/jmetzen/Repositories/scikit-learn\", \n",
    "            \"/home/jmetzen/Repositories/team/src/bayesian_optimization\"] + sys.path\n",
    "\n",
    "import numpy as np\n",
    "from scipy.stats import multivariate_normal, entropy\n",
    "from scipy.linalg import eigvals\n",
    "\n",
    "import matplotlib.pyplot as plt\n",
    "import seaborn\n",
    "%matplotlib inline\n",
    "\n",
    "paper_path = \"/home/jmetzen/Repositories/BesMan/SVN/Documentation/Publications/PeerReviewed/drafts/2016_ICML/pics/\"\n",
    "\n",
    "plt.rcParams.update({'axes.labelsize': 11,\n",
    "                     'axes.titlesize': 12,\n",
    "                     'text.fontsize': 11,\n",
    "                     'xtick.labelsize': 8,\n",
    "                     'ytick.labelsize': 8,\n",
    "                     'legend.fontsize': 7,\n",
    "                     'legend.fancybox': True,\n",
    "                     'font.family': 'serif'})"
   ]
  },
  {
   "cell_type": "code",
   "execution_count": null,
   "metadata": {
    "collapsed": false
   },
   "outputs": [],
   "source": [
    "x_values = np.linspace(0.0, 1.0-0.001, 11)\n",
    "y_values = np.linspace(0.0, 1.0-0.001, 11)\n",
    "X, Y = np.meshgrid(x_values, y_values)\n",
    "Z_es = np.empty_like(X)\n",
    "Z_mrs = np.empty_like(X)\n",
    "for i, x in enumerate(x_values):\n",
    "    for j, y in enumerate(y_values):\n",
    "        mean = np.array([1, y])\n",
    "        cov = np.array([[1.0, x], [x, 1.0]])\n",
    "        \n",
    "        distr = multivariate_normal(mean=mean, cov=cov)\n",
    "        samples = distr.rvs(10000)\n",
    "        Z_es[i, j] = entropy(np.bincount(samples.argmax(1)))\n",
    "        Z_mrs[i, j] = np.mean(samples.max(1) - samples[:, mean.argmax()])"
   ]
  },
  {
   "cell_type": "code",
   "execution_count": null,
   "metadata": {
    "collapsed": false
   },
   "outputs": [],
   "source": [
    "plt.figure(figsize=(12, 4))\n",
    "plt.subplot(1, 3, 1)\n",
    "plt.title(\"Entropy\")\n",
    "plt.pcolor(X, Y, Z_es.T)\n",
    "plt.xlabel(\"x\")\n",
    "plt.ylabel(\"y\")\n",
    "plt.colorbar()\n",
    "\n",
    "plt.subplot(1, 3, 2)\n",
    "plt.title(\"Expected Regret\")\n",
    "plt.pcolor(X, Y, Z_mrs.T)\n",
    "plt.xlabel(\"x\")\n",
    "plt.yticks([])\n",
    "plt.colorbar()\n",
    "\n",
    "plt.tight_layout()\n",
    "# Add parameterized distribution"
   ]
  },
  {
   "cell_type": "code",
   "execution_count": null,
   "metadata": {
    "collapsed": false
   },
   "outputs": [],
   "source": [
    "from sklearn.gaussian_process.kernels import RBF\n",
    "\n",
    "from bayesian_optimization import GaussianProcessModel, MinimalRegretSearch, EntropySearch, ExpectedImprovement\n",
    "\n",
    "X = np.array([[0, 1.25, 1.75, 3]]).T\n",
    "y = np.array([0.0, 1.0, 1.0, 0.0])\n",
    "boundaries = np.array([[0, 4]])\n",
    "\n",
    " \n",
    "kernel = RBF(length_scale=0.75, length_scale_bounds=\"fixed\")\n",
    "\n",
    "model = GaussianProcessModel(kernel=kernel, alpha=1e-10)\n",
    "model.fit(X, y)\n",
    "\n",
    "n_gp_samples = 1000\n",
    "\n",
    "# Generate candidate points that can be reused later\n",
    "mrs = MinimalRegretSearch(model=model, n_gp_samples=n_gp_samples, n_candidates=41, n_trial_points=250,\n",
    "                          n_samples_y=51, rng_seed=i)\n",
    "mrs.set_boundaries(boundaries)\n",
    "X_candidate = mrs.X_candidate"
   ]
  },
  {
   "cell_type": "code",
   "execution_count": null,
   "metadata": {
    "collapsed": false
   },
   "outputs": [],
   "source": [
    "fig_width = 234.8775 / 72.27 # Get fig_width_pt from LaTeX using \\showthe\\columnwidth\n",
    "fig_height = fig_width * 0.66  # height in inches\n",
    "plt.figure(0, dpi=400, figsize=(fig_width, fig_height))\n",
    "\n",
    "X_plot = np.linspace(0, 4, 81)\n",
    "y_mean, y_std = model.gp.predict(X_plot[:, np.newaxis], return_std=True)\n",
    "plt.plot(X_plot, y_mean, c='k', label=\"GP posterior\")\n",
    "plt.scatter(X[:, 0], y, c='g', zorder=10, s=20)\n",
    "plt.fill_between(X_plot, y_mean - y_std, y_mean + y_std, alpha=0.3, color='k')\n",
    "for i in range(1):\n",
    "    mrs = MinimalRegretSearch(model=model, n_gp_samples=n_gp_samples,\n",
    "                              n_samples_y=51, rng_seed=i)\n",
    "    mrs.set_boundaries(boundaries, X_candidate=X_candidate)\n",
    "    mrs_point = MinimalRegretSearch(model=model, n_gp_samples=n_gp_samples,\n",
    "                                    n_samples_y=51, point=True, rng_seed=i)\n",
    "    mrs_point.set_boundaries(boundaries, X_candidate=X_candidate)\n",
    "    es = EntropySearch(model=model, n_gp_samples=n_gp_samples, \n",
    "                       n_samples_y=51, rng_seed=i)\n",
    "    es.set_boundaries(boundaries, X_candidate=X_candidate)\n",
    "    ei = ExpectedImprovement(model=model)\n",
    "    ei.set_boundaries(boundaries)\n",
    "\n",
    "    X_plot = np.linspace(0, 4, 81)\n",
    "    y_mean, y_std = model.gp.predict(X_plot[:, np.newaxis], return_std=True)\n",
    "    y_mrs = mrs(X_plot[:, np.newaxis])\n",
    "    y_mrs_point = mrs_point(X_plot[:, np.newaxis])\n",
    "    y_es = es(X_plot[:, np.newaxis])\n",
    "    y_ei = ei(X_plot[:, np.newaxis], incumbent=y.max())\n",
    "    \n",
    "    plt.plot(X_plot, y_es / (2 * y_es.mean()), c='b', alpha=1.0, \n",
    "             label=\"ES\" if i == 0 else None)\n",
    "    plt.plot(X_plot, y_mrs / (2 * y_mrs.mean()), c='r', alpha=1.0, \n",
    "             label=\"MRS\" if i == 0 else None)\n",
    "    plt.plot(X_plot, y_mrs_point / (2 * y_mrs_point.mean()), c='c', alpha=1.0, \n",
    "             label=r\"MRS$^{point}$\" if i == 0 else None)\n",
    "    plt.plot(X_plot, y_ei / (5 * y_ei.mean()), c='m',\n",
    "             label=\"EI\" if i == 0 else None)\n",
    "    \n",
    "plt.xlim(0, 4)\n",
    "plt.ylim(-1.0, 1.5)\n",
    "plt.xlabel(r\"$\\mathbf{x}^q$\")\n",
    "plt.legend(loc=\"best\", ncol=3)\n",
    "plt.tight_layout()\n",
    "plt.savefig(paper_path + \"acq_comparison.png\", dpi=400)"
   ]
  },
  {
   "cell_type": "code",
   "execution_count": null,
   "metadata": {
    "collapsed": false
   },
   "outputs": [],
   "source": [
    "X_candidate = np.linspace(0, 4, 41)[:, np.newaxis]\n",
    "mrs = MinimalRegretSearch(model=model, n_gp_samples=n_gp_samples,\n",
    "                          n_samples_y=51, rng_seed=i)\n",
    "mrs.set_boundaries(boundaries, X_candidate=X_candidate)\n",
    "\n",
    "f_mean, f_cov = \\\n",
    "    mrs.model.gp.predict(mrs.X_candidate, return_cov=True)\n",
    "f_samples = np.random.multivariate_normal(f_mean, f_cov,\n",
    "                                          mrs.n_gp_samples*10).T\n",
    "bincount = \\\n",
    "    np.bincount(np.argmax(f_samples, 0), minlength=f_mean.shape[0])\n",
    "p_max = bincount / float(mrs.n_gp_samples * 10)\n",
    "regret = (f_samples.max(0) - f_samples).mean(1)\n",
    "\n",
    "opt_index = f_mean.argmax()\n",
    "mean_regret = np.maximum(0, f_samples - f_samples[opt_index]).mean(1)\n",
    "bincount_2 = \\\n",
    "    np.bincount(np.argmax(f_samples, 0), minlength=f_mean.shape[0])\n",
    "bincount_2[opt_index] = 0\n",
    "regret_counter = bincount_2 / float(sum(bincount_2))"
   ]
  },
  {
   "cell_type": "code",
   "execution_count": null,
   "metadata": {
    "collapsed": false
   },
   "outputs": [],
   "source": [
    "fig_width = 234.8775 / 72.27  # Get fig_width_pt from LaTeX using \\showthe\\columnwidth\n",
    "fig_height = fig_width * 0.66  # height in inches\n",
    "fig = plt.figure(0, dpi=400, figsize=(fig_width, fig_height))\n",
    "\n",
    "ax = fig.add_subplot(111)\n",
    "ax.plot(X_plot, y_mean, c='k', label=\"GP posterior\")\n",
    "ax.scatter(X[:, 0], y, c='g', zorder=10, s=20)\n",
    "ax.fill_between(X_plot, y_mean - y_std, y_mean + y_std, alpha=0.3, color='k')\n",
    "ax.plot(mrs.X_candidate, regret, c='r', label=r\"ER($\\mathbf{x}$)\")\n",
    "ax.plot(mrs.X_candidate, p_max, c='b', label=\"$p^\\star$\")\n",
    "#ax.plot(mrs.X_candidate, regret * p_max, c='m', label=r\"ER($\\theta$) * $p_{max}$\")\n",
    "#ax.plot(mrs.X_candidate, regret_counter, c='c', label=r\"$p(f(\\theta) > f(1.5))$\")\n",
    "ax.set_xlim(0, 4)\n",
    "ax.set_ylim(-0.8, 1.25)\n",
    "ax.set_xlabel(r\"$\\mathbf{x}$\")\n",
    "ax.grid(\"off\")\n",
    "ax.legend(loc='lower left')\n",
    "\n",
    "ax2 = ax.twinx()\n",
    "ax2.plot(mrs.X_candidate, mean_regret, c='m', label=r\"$\\mathbb{E}[$max$(f(\\mathbf{x}) - f(1.5), 0)]$\")\n",
    "ax.set_xlim(0, 4)\n",
    "ax2.set_ylim(-0.035, 0.054)\n",
    "ax2.grid(\"off\")\n",
    "ax2.legend(loc=\"lower right\")\n",
    "plt.tight_layout()\n",
    "plt.savefig(paper_path + \"regret_illustration.png\", dpi=400)"
   ]
  },
  {
   "cell_type": "code",
   "execution_count": null,
   "metadata": {
    "collapsed": true
   },
   "outputs": [],
   "source": []
  }
 ],
 "metadata": {
  "kernelspec": {
   "display_name": "Python 2",
   "language": "python",
   "name": "python2"
  },
  "language_info": {
   "codemirror_mode": {
    "name": "ipython",
    "version": 2
   },
   "file_extension": ".py",
   "mimetype": "text/x-python",
   "name": "python",
   "nbconvert_exporter": "python",
   "pygments_lexer": "ipython2",
   "version": "2.7.10"
  }
 },
 "nbformat": 4,
 "nbformat_minor": 0
}
