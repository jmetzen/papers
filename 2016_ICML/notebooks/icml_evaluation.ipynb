{
 "cells": [
  {
   "cell_type": "code",
   "execution_count": 1,
   "metadata": {
    "collapsed": false
   },
   "outputs": [
    {
     "name": "stderr",
     "output_type": "stream",
     "text": [
      "/home/jmetzen/.anaconda/lib/python2.7/site-packages/matplotlib/__init__.py:872: UserWarning: axes.color_cycle is deprecated and replaced with axes.prop_cycle; please use the latter.\n",
      "  warnings.warn(self.msg_depr % (key, alt_key))\n",
      "/home/jmetzen/.anaconda/lib/python2.7/site-packages/matplotlib/__init__.py:872: UserWarning: text.fontsize is deprecated and replaced with font.size; please use the latter.\n",
      "  warnings.warn(self.msg_depr % (key, alt_key))\n"
     ]
    }
   ],
   "source": [
    "import sys\n",
    "sys.path = [\"/home/jmetzen/Repositories/scikit-learn\", \n",
    "            \"/home/jmetzen/Repositories/team/src/bayesian_optimization\"] + sys.path\n",
    "import cPickle\n",
    "\n",
    "import numpy as np\n",
    "import matplotlib.pyplot as plt\n",
    "import matplotlib.cm as cm\n",
    "#from mpl_toolkits.axes_grid1.inset_locator import inset_axes\n",
    "#import seaborn as sns\n",
    "%matplotlib inline\n",
    "\n",
    "plt.rcParams.update({'axes.labelsize': 11,\n",
    "                     'axes.titlesize': 12,\n",
    "                     'text.fontsize': 11,\n",
    "                     'xtick.labelsize': 8,\n",
    "                     'ytick.labelsize': 8,\n",
    "                     'legend.fontsize': 7,\n",
    "                     'legend.fancybox': True,\n",
    "                     'font.family': 'serif'})\n",
    "\n",
    "c = [\"r\", \"g\", \"b\", 'k', 'm', 'c']\n",
    "ms = [\"o\", \"d\", \"v\", \"^\", \"s\", \"p\"]\n",
    "\n",
    "from joblib import Parallel, delayed\n",
    "\n",
    "from sklearn.gaussian_process import GaussianProcessRegressor\n",
    "from sklearn.gaussian_process.kernels import RBF, Matern, RationalQuadratic\n",
    "\n",
    "from bayesian_optimization import (BayesianOptimizer, GaussianProcessModel, \n",
    "                                   MinimalRegretSearch, EntropySearch, UpperConfidenceBound,\n",
    "                                   ExpectedImprovement, ProbabilityOfImprovement,\n",
    "                                   GPUpperConfidenceBound)\n",
    "from bayesian_optimization.utils.optimization import global_optimization"
   ]
  },
  {
   "cell_type": "code",
   "execution_count": 2,
   "metadata": {
    "collapsed": false
   },
   "outputs": [],
   "source": [
    "def generate_function(kernel, boundaries, n_train_points, random_state):\n",
    "    gp_prior = GaussianProcessRegressor(kernel=kernel)\n",
    "\n",
    "    X_train = np.random.RandomState(random_state).uniform(\n",
    "        boundaries[:, 0], boundaries[:, 1], (n_train_points, boundaries.shape[0]))\n",
    "    y_train = gp_prior.sample_y(X_train, 1, random_state=random_state)\n",
    "\n",
    "    gp_target = GaussianProcessRegressor(kernel=kernel)\n",
    "    gp_target.fit(X_train, y_train)\n",
    "    \n",
    "    def target_fct(x):\n",
    "        return gp_target.predict(x[np.newaxis, :])[0, 0]\n",
    "    \n",
    "    return target_fct"
   ]
  },
  {
   "cell_type": "code",
   "execution_count": 3,
   "metadata": {
    "collapsed": true
   },
   "outputs": [],
   "source": [
    "def create_optimizer(kernel, acquisition_function):\n",
    "    model = GaussianProcessModel(kernel=kernel, alpha=1e-3)\n",
    "    if acquisition_function == \"mrs\":\n",
    "        acquisition_function = \\\n",
    "            MinimalRegretSearch(model=model, n_gp_samples=1000, n_candidates=25,\n",
    "                                n_trial_points=250, n_samples_y=51, point=False)\n",
    "    if acquisition_function == \"mrs_point\":\n",
    "        acquisition_function = \\\n",
    "            MinimalRegretSearch(model=model, n_gp_samples=1000, n_candidates=25,\n",
    "                                n_trial_points=250, n_samples_y=51, point=True)\n",
    "    elif acquisition_function == \"es\":\n",
    "        acquisition_function = \\\n",
    "            EntropySearch(model=model, n_gp_samples=1000, n_candidates=25,\n",
    "                          n_trial_points=250, n_samples_y=51)\n",
    "    elif acquisition_function == \"ucb\":\n",
    "        acquisition_function = \\\n",
    "            UpperConfidenceBound(model=model, kappa=5.0)\n",
    "    elif acquisition_function == \"gp_ucb\":\n",
    "        acquisition_function = \\\n",
    "            GPUpperConfidenceBound(model=model, const=0.5)\n",
    "    elif acquisition_function == \"ei\":\n",
    "        acquisition_function = \\\n",
    "            ExpectedImprovement(model=model)\n",
    "    elif acquisition_function == \"pi\":\n",
    "        acquisition_function = \\\n",
    "            ProbabilityOfImprovement(model=model)\n",
    "    bayes_opt = BayesianOptimizer(model=model, optimizer=\"direct+lbfgs\",\n",
    "                                  acquisition_function=acquisition_function)\n",
    "    return bayes_opt"
   ]
  },
  {
   "cell_type": "code",
   "execution_count": 4,
   "metadata": {
    "collapsed": true
   },
   "outputs": [],
   "source": [
    "kernel = RationalQuadratic(length_scale=0.1, length_scale_bounds=\"fixed\", alpha=1.0, alpha_bounds=\"fixed\")\n",
    "kernel_bo = RBF(length_scale=0.1, length_scale_bounds=\"fixed\")\n",
    "\n",
    "n_train_points = 250\n",
    "boundaries = np.array([[0.0, 1.0], [0.0, 1.0]])\n",
    "\n",
    "n_runs = 250\n",
    "n_trials = 100\n",
    "settings = [\"mrs\", \"es\", \"mrs_point\", \"ei\", \"gp_ucb\", \"pi\"]"
   ]
  },
  {
   "cell_type": "code",
   "execution_count": 5,
   "metadata": {
    "collapsed": false
   },
   "outputs": [],
   "source": [
    "def perform_run(setting, run):\n",
    "    np.random.seed(run)\n",
    "    \n",
    "    y_regret = np.empty((n_trials / 5))\n",
    "    X_dist = np.empty((n_trials / 5))\n",
    "    X_query = np.empty((n_trials, boundaries.shape[0]))\n",
    "    \n",
    "    target_fct = generate_function(kernel, boundaries, n_train_points, random_state=run)\n",
    "    X_opt = global_optimization(target_fct,  boundaries=boundaries, \n",
    "                                optimizer=\"direct\", maxf=1000)\n",
    "    y_opt = target_fct(X_opt) \n",
    "\n",
    "    bayes_opt = create_optimizer(kernel_bo,acquisition_function=setting)\n",
    "\n",
    "    for i in range(n_trials):\n",
    "        query = bayes_opt.select_query_point(boundaries)\n",
    "        result = target_fct(query) + 1e-3 * np.random.random()\n",
    "        bayes_opt.update(query, result)\n",
    "        \n",
    "        X_query[i] = query\n",
    "        if i % 5 == 4:\n",
    "            X_sel = global_optimization(lambda x: bayes_opt.model.gp.predict(x[np.newaxis, :]), \n",
    "                                        boundaries=boundaries, \n",
    "                                        optimizer=\"direct\", maxf=1000)\n",
    "            y_sel = target_fct(X_sel)\n",
    "\n",
    "            y_regret[i / 5] = y_opt - y_sel\n",
    "            X_dist[i / 5] = np.sqrt(((X_opt - X_sel)**2).sum())\n",
    "            \n",
    "    f = open(\"/home/jmetzen/Temp/log/%s_%s\" % (setting, run), 'w')\n",
    "    cPickle.dump((setting, run, y_regret, X_dist, X_query), f, protocol=-1)\n",
    "    f.close()\n",
    "    return setting, run, y_regret, X_dist, X_query"
   ]
  },
  {
   "cell_type": "code",
   "execution_count": 6,
   "metadata": {
    "collapsed": false
   },
   "outputs": [
    {
     "name": "stderr",
     "output_type": "stream",
     "text": [
      "[Parallel(n_jobs=4)]: Done   1 out of 1500 | elapsed: 100.5min remaining: 150655.9min\n",
      "[Parallel(n_jobs=4)]: Done 143 out of 1500 | elapsed: 1178.6min remaining: 11184.4min\n",
      "[Parallel(n_jobs=4)]: Done 294 out of 1500 | elapsed: 2422.0min remaining: 9935.1min\n",
      "[Parallel(n_jobs=4)]: Done 445 out of 1500 | elapsed: 3747.1min remaining: 8883.7min\n",
      "/home/jmetzen/Repositories/team/src/bayesian_optimization/bayesian_optimization/acquisition_functions.py:356: RuntimeWarning: covariance is not positive-semidefinite.\n",
      "  f_mean, f_cov, self.n_gp_samples).T\n",
      "/home/jmetzen/Repositories/team/src/bayesian_optimization/bayesian_optimization/acquisition_functions.py:415: RuntimeWarning: covariance is not positive-semidefinite.\n",
      "  f_mean, f_cov + f_cov_delta, self.n_gp_samples).T\n",
      "/home/jmetzen/Repositories/team/src/bayesian_optimization/bayesian_optimization/acquisition_functions.py:415: RuntimeWarning: covariance is not positive-semidefinite.\n",
      "  f_mean, f_cov + f_cov_delta, self.n_gp_samples).T\n",
      "/home/jmetzen/Repositories/team/src/bayesian_optimization/bayesian_optimization/acquisition_functions.py:415: RuntimeWarning: covariance is not positive-semidefinite.\n",
      "  f_mean, f_cov + f_cov_delta, self.n_gp_samples).T\n",
      "/home/jmetzen/Repositories/team/src/bayesian_optimization/bayesian_optimization/acquisition_functions.py:303: RuntimeWarning: covariance is not positive-semidefinite.\n",
      "  f_mean, f_cov + f_cov_delta, self.n_gp_samples).T\n",
      "/home/jmetzen/Repositories/team/src/bayesian_optimization/bayesian_optimization/acquisition_functions.py:477: RuntimeWarning: covariance is not positive-semidefinite.\n",
      "  f_mean, f_cov, self.n_gp_samples).T\n",
      "/home/jmetzen/Repositories/team/src/bayesian_optimization/bayesian_optimization/acquisition_functions.py:303: RuntimeWarning: covariance is not positive-semidefinite.\n",
      "  f_mean, f_cov + f_cov_delta, self.n_gp_samples).T\n",
      "/home/jmetzen/Repositories/team/src/bayesian_optimization/bayesian_optimization/acquisition_functions.py:477: RuntimeWarning: covariance is not positive-semidefinite.\n",
      "  f_mean, f_cov, self.n_gp_samples).T\n",
      "/home/jmetzen/Repositories/team/src/bayesian_optimization/bayesian_optimization/acquisition_functions.py:415: RuntimeWarning: covariance is not positive-semidefinite.\n",
      "  f_mean, f_cov + f_cov_delta, self.n_gp_samples).T\n",
      "/home/jmetzen/Repositories/team/src/bayesian_optimization/bayesian_optimization/acquisition_functions.py:303: RuntimeWarning: covariance is not positive-semidefinite.\n",
      "  f_mean, f_cov + f_cov_delta, self.n_gp_samples).T\n",
      "/home/jmetzen/Repositories/team/src/bayesian_optimization/bayesian_optimization/acquisition_functions.py:477: RuntimeWarning: covariance is not positive-semidefinite.\n",
      "  f_mean, f_cov, self.n_gp_samples).T\n",
      "/home/jmetzen/Repositories/team/src/bayesian_optimization/bayesian_optimization/acquisition_functions.py:303: RuntimeWarning: covariance is not positive-semidefinite.\n",
      "  f_mean, f_cov + f_cov_delta, self.n_gp_samples).T\n",
      "/home/jmetzen/Repositories/team/src/bayesian_optimization/bayesian_optimization/acquisition_functions.py:477: RuntimeWarning: covariance is not positive-semidefinite.\n",
      "  f_mean, f_cov, self.n_gp_samples).T\n",
      "/home/jmetzen/Repositories/team/src/bayesian_optimization/bayesian_optimization/acquisition_functions.py:356: RuntimeWarning: covariance is not positive-semidefinite.\n",
      "  f_mean, f_cov, self.n_gp_samples).T\n",
      "/home/jmetzen/Repositories/team/src/bayesian_optimization/bayesian_optimization/acquisition_functions.py:356: RuntimeWarning: covariance is not positive-semidefinite.\n",
      "  f_mean, f_cov, self.n_gp_samples).T\n",
      "/home/jmetzen/Repositories/team/src/bayesian_optimization/bayesian_optimization/acquisition_functions.py:356: RuntimeWarning: covariance is not positive-semidefinite.\n",
      "  f_mean, f_cov, self.n_gp_samples).T\n"
     ]
    },
    {
     "ename": "KeyboardInterrupt",
     "evalue": "",
     "output_type": "error",
     "traceback": [
      "\u001b[1;31m---------------------------------------------------------------------------\u001b[0m",
      "\u001b[1;31mKeyboardInterrupt\u001b[0m                         Traceback (most recent call last)",
      "\u001b[1;32m<ipython-input-6-eef1a5ef7221>\u001b[0m in \u001b[0;36m<module>\u001b[1;34m()\u001b[0m\n\u001b[0;32m      1\u001b[0m res = Parallel(n_jobs=4, verbose=10)(\n\u001b[0;32m      2\u001b[0m         \u001b[0mdelayed\u001b[0m\u001b[1;33m(\u001b[0m\u001b[0mperform_run\u001b[0m\u001b[1;33m)\u001b[0m\u001b[1;33m(\u001b[0m\u001b[0msetting\u001b[0m\u001b[1;33m,\u001b[0m \u001b[0mrun\u001b[0m\u001b[1;33m)\u001b[0m\u001b[1;33m\u001b[0m\u001b[0m\n\u001b[1;32m----> 3\u001b[1;33m             \u001b[1;32mfor\u001b[0m \u001b[0mrun\u001b[0m \u001b[1;32min\u001b[0m \u001b[0mrange\u001b[0m\u001b[1;33m(\u001b[0m\u001b[0mn_runs\u001b[0m\u001b[1;33m)\u001b[0m\u001b[1;33m\u001b[0m\u001b[0m\n\u001b[0m\u001b[0;32m      4\u001b[0m                 for setting in settings)\n",
      "\u001b[1;32m/home/jmetzen/.anaconda/lib/python2.7/site-packages/joblib/parallel.pyc\u001b[0m in \u001b[0;36m__call__\u001b[1;34m(self, iterable)\u001b[0m\n\u001b[0;32m    658\u001b[0m                 \u001b[1;31m# consumption.\u001b[0m\u001b[1;33m\u001b[0m\u001b[1;33m\u001b[0m\u001b[0m\n\u001b[0;32m    659\u001b[0m                 \u001b[0mself\u001b[0m\u001b[1;33m.\u001b[0m\u001b[0m_iterating\u001b[0m \u001b[1;33m=\u001b[0m \u001b[0mFalse\u001b[0m\u001b[1;33m\u001b[0m\u001b[0m\n\u001b[1;32m--> 660\u001b[1;33m             \u001b[0mself\u001b[0m\u001b[1;33m.\u001b[0m\u001b[0mretrieve\u001b[0m\u001b[1;33m(\u001b[0m\u001b[1;33m)\u001b[0m\u001b[1;33m\u001b[0m\u001b[0m\n\u001b[0m\u001b[0;32m    661\u001b[0m             \u001b[1;31m# Make sure that we get a last message telling us we are done\u001b[0m\u001b[1;33m\u001b[0m\u001b[1;33m\u001b[0m\u001b[0m\n\u001b[0;32m    662\u001b[0m             \u001b[0melapsed_time\u001b[0m \u001b[1;33m=\u001b[0m \u001b[0mtime\u001b[0m\u001b[1;33m.\u001b[0m\u001b[0mtime\u001b[0m\u001b[1;33m(\u001b[0m\u001b[1;33m)\u001b[0m \u001b[1;33m-\u001b[0m \u001b[0mself\u001b[0m\u001b[1;33m.\u001b[0m\u001b[0m_start_time\u001b[0m\u001b[1;33m\u001b[0m\u001b[0m\n",
      "\u001b[1;32m/home/jmetzen/.anaconda/lib/python2.7/site-packages/joblib/parallel.pyc\u001b[0m in \u001b[0;36mretrieve\u001b[1;34m(self)\u001b[0m\n\u001b[0;32m    524\u001b[0m                             \u001b[1;31m# We can now allow subprocesses again\u001b[0m\u001b[1;33m\u001b[0m\u001b[1;33m\u001b[0m\u001b[0m\n\u001b[0;32m    525\u001b[0m                             \u001b[0mos\u001b[0m\u001b[1;33m.\u001b[0m\u001b[0menviron\u001b[0m\u001b[1;33m.\u001b[0m\u001b[0mpop\u001b[0m\u001b[1;33m(\u001b[0m\u001b[1;34m'__JOBLIB_SPAWNED_PARALLEL__'\u001b[0m\u001b[1;33m,\u001b[0m \u001b[1;36m0\u001b[0m\u001b[1;33m)\u001b[0m\u001b[1;33m\u001b[0m\u001b[0m\n\u001b[1;32m--> 526\u001b[1;33m                         \u001b[1;32mraise\u001b[0m \u001b[0mexception\u001b[0m\u001b[1;33m\u001b[0m\u001b[0m\n\u001b[0m\u001b[0;32m    527\u001b[0m                     \u001b[1;32melif\u001b[0m \u001b[0misinstance\u001b[0m\u001b[1;33m(\u001b[0m\u001b[0mexception\u001b[0m\u001b[1;33m,\u001b[0m \u001b[0mTransportableException\u001b[0m\u001b[1;33m)\u001b[0m\u001b[1;33m:\u001b[0m\u001b[1;33m\u001b[0m\u001b[0m\n\u001b[0;32m    528\u001b[0m                         \u001b[1;31m# Capture exception to add information on the local\u001b[0m\u001b[1;33m\u001b[0m\u001b[1;33m\u001b[0m\u001b[0m\n",
      "\u001b[1;31mKeyboardInterrupt\u001b[0m: "
     ]
    }
   ],
   "source": [
    "res = Parallel(n_jobs=4, verbose=10)(\n",
    "        delayed(perform_run)(setting, run)\n",
    "            for run in range(n_runs)\n",
    "                for setting in settings)"
   ]
  },
  {
   "cell_type": "code",
   "execution_count": null,
   "metadata": {
    "collapsed": false
   },
   "outputs": [],
   "source": [
    "y_regret = np.empty((len(settings), n_runs, n_trials / 5))\n",
    "X_dist = np.empty((len(settings), n_runs, n_trials / 5))\n",
    "X_query = np.empty((len(settings), n_runs, n_trials, 2))\n",
    "for setting, run, y_regret_, X_dist_, X_query_ in res:\n",
    "    i = settings.index(setting)\n",
    "    y_regret[i, run] = y_regret_\n",
    "    X_dist[i, run] = X_dist_\n",
    "    X_query[i, run] = X_query_"
   ]
  },
  {
   "cell_type": "code",
   "execution_count": null,
   "metadata": {
    "collapsed": false
   },
   "outputs": [],
   "source": [
    "f = open(\"/home/jmetzen/Repositories/BesMan/SVN/Documentation/Publications/PeerReviewed/drafts/2016_ICML/results/merged_res_200.pickle\", \"w\")\n",
    "cPickle.dump((y_regret, X_dist, X_query), f)\n",
    "f.close()"
   ]
  },
  {
   "cell_type": "code",
   "execution_count": null,
   "metadata": {
    "collapsed": true
   },
   "outputs": [],
   "source": [
    "import cPickle\n",
    "f = open(\"/home/jmetzen/Repositories/BesMan/SVN/Documentation/Publications/PeerReviewed/drafts/2016_ICML/results/merged_res_200.pickle\", \"r\")\n",
    "y_regret, X_dist, X_query = cPickle.load(f)\n",
    "f.close()"
   ]
  },
  {
   "cell_type": "markdown",
   "metadata": {},
   "source": [
    "## Plotting"
   ]
  },
  {
   "cell_type": "code",
   "execution_count": null,
   "metadata": {
    "collapsed": true
   },
   "outputs": [],
   "source": [
    "setting_names = {\n",
    "    \"mrs\": \"MRS\",\n",
    "    \"es\": \"ES\",\n",
    "    \"mrs_point\": r\"MRS$^{point}$\",\n",
    "    \"ei\": \"EI\",\n",
    "    \"gp_ucb\": \"GP-UCB\",\n",
    "    \"pi\": \"PI\"\n",
    "}"
   ]
  },
  {
   "cell_type": "code",
   "execution_count": null,
   "metadata": {
    "collapsed": false
   },
   "outputs": [],
   "source": [
    "fig_width = 487.8225 / 72.27  # Get fig_width_pt from LaTeX using \\showthe\\columnwidth\n",
    "fig_height = fig_width * 0.5  # height in inches\n",
    "plt.figure(0, dpi=400, figsize=(fig_width, fig_height))\n",
    "\n",
    "ax = plt.subplot(1,2,1)\n",
    "for i, setting in enumerate(settings):\n",
    "    ax.plot(np.arange(5, n_trials+1, 5), np.median(y_regret[i], 0), \n",
    "            c=c[i], marker=ms[i], label=setting_names[setting])\n",
    "ax.set_ylim(1e-5, 1e1)\n",
    "#ax.tick_params(axis='y', which='minor')\n",
    "#ax.yaxis.set_minor_locator(MultipleLocator(5))\n",
    "ax.set_yscale(\"log\")\n",
    "ax.set_xlabel(\"N\")\n",
    "ax.set_ylabel(\"Regret\")\n",
    "ax.grid(b=True, which='major', color='gray', linestyle='--')\n",
    "ax.grid(b=True, which='minor', color='gray', linestyle=':')\n",
    "ax.legend(loc=\"best\", ncol=3, )\n",
    "ax.set_title(\"Median Regret\")\n",
    "\n",
    "ax = plt.subplot(1,2,2)\n",
    "for i, setting in enumerate(settings):\n",
    "    ax.plot(np.arange(5, n_trials+1, 5), np.mean(y_regret[i], 0), \n",
    "            c=c[i], marker=ms[i], label=setting_names[setting])\n",
    "ax.set_ylim(1e-5, 1e1)\n",
    "ax.set_yscale(\"log\")\n",
    "ax.set_xlabel(\"N\")\n",
    "ax.set_yticklabels([])\n",
    "ax.grid(b=True, which='major', color='gray', linestyle='--')\n",
    "ax.grid(b=True, which='minor', color='gray', linestyle=':')\n",
    "#ax.legend(loc=\"upper center\", ncol=3)\n",
    "ax.set_title(\"Mean Regret\")\n",
    "\n",
    "#axins = inset_axes(ax, width=\"40%\", height=\"40%\", loc=1)  # zoom = 6\n",
    "#axins.scatter(y_regret[0, :, -1], y_regret[1, :, -1], c='r')\n",
    "#axins.set_xscale(\"log\")\n",
    "#axins.set_yscale(\"log\")\n",
    "#axins.set_xlim(1e-10, 1e0)\n",
    "#axins.set_ylim(1e-10, 1e0)\n",
    "#axins.set_xticks(np.logspace(-10, 0, 6))\n",
    "#axins.set_yticks(np.logspace(-10, 0, 6))\n",
    "#axins.set_axis_bgcolor(\"white\")\n",
    "#axins.plot([1e-10, 1e0], [1e-10, 1e0])\n",
    "#axins.set_xlabel(\"MRS Regret\")\n",
    "#axins.set_ylabel(\"ES Regret\")\n",
    "\n",
    "plt.tight_layout()\n",
    "plt.savefig(\"../pics/empirical_comparison.png\", dpi=400)"
   ]
  },
  {
   "cell_type": "code",
   "execution_count": null,
   "metadata": {
    "collapsed": false
   },
   "outputs": [],
   "source": [
    "fig_width = 487.8225 / 72.27  # Get fig_width_pt from LaTeX using \\showthe\\columnwidth\n",
    "fig_height = fig_width * 0.4  # height in inches\n",
    "plt.figure(0, dpi=400, figsize=(fig_width, fig_height))\n",
    "\n",
    "for i, setting in enumerate(settings):\n",
    "    ax = plt.subplot(2, 3, i+1)\n",
    "    ax.hist(np.maximum(y_regret[i, : , -1], 1e-8), #normed=True,\n",
    "            bins=np.logspace(-8, 1, 19), color=c[i])\n",
    "    ax.set_xscale(\"log\")\n",
    "    ax.set_yscale(\"log\")\n",
    "    ax.set_title(setting_names[setting])\n",
    "    ax.set_xticks([1e-8, 1e-6, 1e-4, 1e-2, 1e0])\n",
    "    if i % 3 != 0:\n",
    "        ax.set_yticklabels([])\n",
    "    else:\n",
    "        ax.set_ylabel(\"Count\")\n",
    "    if i < 3:\n",
    "        ax.set_xticklabels([])\n",
    "    else:\n",
    "        ax.set_xlabel(\"Regret\")\n",
    "plt.tight_layout()\n",
    "plt.savefig(\"../pics/hist.png\", dpi=400)"
   ]
  },
  {
   "cell_type": "code",
   "execution_count": null,
   "metadata": {
    "collapsed": false
   },
   "outputs": [],
   "source": [
    "plt.figure(figsize=(10, 10))\n",
    "for i in range(len(settings)):\n",
    "    for j in range(len(settings)):\n",
    "        plt.subplot(len(settings), len(settings), j*len(settings) + i + 1)\n",
    "        plt.scatter(y_regret[i, :, -1], y_regret[j, :, -1], c='r')\n",
    "        plt.xscale(\"log\")\n",
    "        plt.yscale(\"log\")\n",
    "        plt.xlim(1e-10, 1e1)\n",
    "        plt.ylim(1e-10, 1e1)\n",
    "        plt.plot([1e-10, 1e1], [1e-10, 1e1], c='k')\n",
    "        if j == len(settings) - 1:\n",
    "            plt.xlabel(setting_names[settings[i]])\n",
    "        plt.gca().set_xticklabels([])\n",
    "        if i == 0:\n",
    "            plt.ylabel(setting_names[settings[j]])\n",
    "        plt.gca().set_yticklabels([])\n",
    "        plt.title(str((y_regret[i, : , -1] < y_regret[j, : , -1]).mean()))\n",
    "#(y_regret[0, :, -1] < y_regret[5, :, -1]).sum()\n",
    "plt.tight_layout()\n",
    "plt.savefig(\"../pics/scatter.pdf\")"
   ]
  },
  {
   "cell_type": "code",
   "execution_count": null,
   "metadata": {
    "collapsed": false
   },
   "outputs": [],
   "source": [
    "print \"Runs with high immediate regret\", zip(settings, (y_regret[:, :, -1] > 1e-2).sum(1))"
   ]
  },
  {
   "cell_type": "code",
   "execution_count": null,
   "metadata": {
    "collapsed": false
   },
   "outputs": [],
   "source": [
    "# Plt samples on specific runs\n",
    "run = 0 # y_regret[1, :, -1].argmax()\n",
    "print run\n",
    "\n",
    "#kernel = RBF(length_scale=0.1, length_scale_bounds=\"fixed\")\n",
    "kernel = RationalQuadratic(length_scale=0.1, length_scale_bounds=\"fixed\", alpha=1.0, alpha_bounds=\"fixed\")\n",
    "\n",
    "n_train_points = 250\n",
    "boundaries = np.array([[0.0, 1.0], [0.0, 1.0]])\n",
    "target_fct = generate_function(kernel, boundaries, n_train_points, random_state=run)\n",
    "X_opt = global_optimization(target_fct,  boundaries=boundaries, \n",
    "                            optimizer=\"direct\", maxf=5000)\n",
    "\n",
    "x_ = np.linspace(0, 1, 50)\n",
    "y_ = np.linspace(0, 1, 49)\n",
    "X_, Y_ = np.meshgrid(x_, y_)\n",
    "Z_ = [[target_fct(np.array([x_[i], y_[j]]))\n",
    "       for i in range(x_.shape[0])] \n",
    "      for j in range(y_.shape[0])]\n",
    "\n",
    "plt.figure(figsize=(10, 5))\n",
    "for i in [0]: # range(len(settings)):\n",
    "    plt.subplot(2, 3, i+1)\n",
    "    plt.pcolor(X_, Y_, np.array(Z_), cmap = cm.Greys)\n",
    "    plt.colorbar()\n",
    "    #plt.scatter(X_query[i, run, :, 0], X_query[i, run, :, 1], c='r')\n",
    "    #plt.scatter(X_opt[[0]], X_opt[1], c='b')\n",
    "    plt.xlim(0, 1)\n",
    "    plt.ylim(0, 1)\n",
    "    #plt.title(setting_names[settings[i]])\n",
    "plt.tight_layout()\n",
    "#plt.savefig(\"../pics/run_visualization.pdf\")"
   ]
  },
  {
   "cell_type": "code",
   "execution_count": null,
   "metadata": {
    "collapsed": false
   },
   "outputs": [],
   "source": [
    "np.random.seed(0)\n",
    "\n",
    "setting_index = 1\n",
    "run = y_regret[setting_index, :, -1].argmax()\n",
    "\n",
    "target_fct = generate_function(kernel, boundaries, n_train_points, random_state=run)\n",
    "X_opt = global_optimization(target_fct,  boundaries=boundaries, \n",
    "                            optimizer=\"direct\", maxf=5000)\n",
    "\n",
    "model = GaussianProcessModel(kernel=kernel, alpha=1e-3)\n",
    "y = [target_fct(X_query[1, run, i]) for i in range(100)]\n",
    "model.fit(X_query[1, run], y)\n",
    "\n",
    "n_gp_samples = 1000\n",
    "\n",
    "mrs = MinimalRegretSearch(model=model, n_gp_samples=n_gp_samples, n_candidates=25,\n",
    "                          n_trial_points=250, n_samples_y=51, point=False)\n",
    "mrs.set_boundaries(boundaries)\n",
    "es = EntropySearch(model=model, n_gp_samples=n_gp_samples, n_candidates=25, \n",
    "                   n_trial_points=250, n_samples_y=51)\n",
    "es.set_boundaries(boundaries, X_candidate=mrs.X_candidate)\n",
    "\n",
    "x_ = np.linspace(0, 1, 100)\n",
    "y_ = np.linspace(0, 1, 100)\n",
    "X_, Y_ = np.meshgrid(x_, y_)\n",
    "\n",
    "# True function\n",
    "Z_ = [[target_fct(np.array([x_[i], y_[j]]))\n",
    "       for i in range(x_.shape[0])] \n",
    "      for j in range(y_.shape[0])]\n",
    "\n",
    "fig_width = 487.8225 / 72.27 # Get fig_width_pt from LaTeX using \\showthe\\columnwidth\n",
    "fig_height = fig_width * 0.33  # height in inches\n",
    "plt.figure(0, dpi=400, figsize=(fig_width, fig_height))\n",
    "\n",
    "ax = plt.subplot(1, 4, 1)\n",
    "ax.set_axis_bgcolor('white')\n",
    "plt.pcolor(X_, Y_, np.array(Z_), cmap = cm.Greys)\n",
    "#plt.colorbar()\n",
    "samples = plt.scatter(X_query[setting_index, run, :, 0], X_query[setting_index, run, :, 1],\n",
    "                      alpha=1.0, c='g', marker='o', label=\"Samples\")\n",
    "optimum = plt.scatter(X_opt[[0]], X_opt[1],\n",
    "                      alpha=1.0, c='b', marker='d', s=40, label=\"Optimum\")\n",
    "plt.xlim(0, 1)\n",
    "plt.ylim(-0.2, 1)\n",
    "plt.xticks([])\n",
    "plt.yticks([])\n",
    "plt.title(\"Function/Samples\", fontsize=10)\n",
    "\n",
    "ax = plt.subplot(1, 4, 2)\n",
    "ax.set_axis_bgcolor('white')\n",
    "plt.pcolor(X_, Y_, np.array(Z_), cmap = cm.Greys)\n",
    "repr_points = plt.scatter(mrs.X_candidate[:, 0], mrs.X_candidate[:, 1], \n",
    "                          alpha=1.0, c='r', label=\"Representer points\")\n",
    "plt.legend(handles=[samples, repr_points, optimum], loc=\"lower right\", ncol=3)\n",
    "plt.xlim(0, 1)\n",
    "plt.ylim(-0.2, 1)\n",
    "plt.xticks([])\n",
    "plt.yticks([])\n",
    "plt.title(\"Representer points\", fontsize=10)\n",
    "\n",
    "for index, acq in enumerate([es, mrs]):\n",
    "    ax = plt.subplot(1, 4, index+3)\n",
    "    ax.set_axis_bgcolor('white')\n",
    "    Z_ = [[acq(np.array([x_[i], y_[j]]))[0]\n",
    "       for i in range(x_.shape[0])] \n",
    "      for j in range(y_.shape[0])]\n",
    "\n",
    "    plt.pcolor(X_, Y_, np.array(Z_), cmap = cm.Greys)\n",
    "    #plt.colorbar()\n",
    "    plt.xlim(0, 1)\n",
    "    plt.ylim(-0.2, 1)\n",
    "    plt.xticks([])\n",
    "    plt.yticks([])\n",
    "    plt.title([\"ES\", \"MRS\"][index], fontsize=10)\n",
    "\n",
    "    plt.tight_layout()\n",
    "plt.savefig(\"../pics/es_analysis.png\", dpi=400)"
   ]
  },
  {
   "cell_type": "code",
   "execution_count": null,
   "metadata": {
    "collapsed": true
   },
   "outputs": [],
   "source": []
  }
 ],
 "metadata": {
  "kernelspec": {
   "display_name": "Python 2",
   "language": "python",
   "name": "python2"
  },
  "language_info": {
   "codemirror_mode": {
    "name": "ipython",
    "version": 2
   },
   "file_extension": ".py",
   "mimetype": "text/x-python",
   "name": "python",
   "nbconvert_exporter": "python",
   "pygments_lexer": "ipython2",
   "version": "2.7.11"
  }
 },
 "nbformat": 4,
 "nbformat_minor": 0
}
